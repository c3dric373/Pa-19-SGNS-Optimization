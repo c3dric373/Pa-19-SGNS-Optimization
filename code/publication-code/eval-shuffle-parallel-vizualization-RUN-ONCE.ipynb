{
 "cells": [
  {
   "cell_type": "markdown",
   "metadata": {},
   "source": [
    "# text8 dataset"
   ]
  },
  {
   "cell_type": "code",
   "execution_count": 11,
   "metadata": {},
   "outputs": [
    {
     "name": "stdout",
     "output_type": "stream",
     "text": [
      "Once deleted, variables cannot be recovered. Proceed (y/[n])? y\n"
     ]
    }
   ],
   "source": [
    "%reset"
   ]
  },
  {
   "cell_type": "code",
   "execution_count": 54,
   "metadata": {},
   "outputs": [],
   "source": [
    "from gensim.test.utils import datapath\n",
    "import gensim.downloader as api\n",
    "\n",
    "\"Transforms a list of words to a list of sentences with length=len_sen\"\n",
    "def words_to_sentences(words,len_sen=20):\n",
    "    new_ds = []\n",
    "    for i in range(0, len(words), len_sen):\n",
    "        y = [words[i:i + len_sen]]\n",
    "        new_ds.extend(y)\n",
    "    return new_ds\n",
    "\n",
    "# Get dataset online\n",
    "dataset = api.load('text8')\n",
    "\n",
    "# Convert to list of words\n",
    "text8_ds = []\n",
    "for x in dataset: \n",
    "    for y in x:\n",
    "        text8_ds.append(y)\n",
    "\n",
    "# New dataset with sentences of length=20\n",
    "text8_dataset = words_to_sentences(text8_ds)\n"
   ]
  },
  {
   "cell_type": "code",
   "execution_count": 2,
   "metadata": {},
   "outputs": [],
   "source": [
    "vocab = set(text8_ds)"
   ]
  },
  {
   "cell_type": "code",
   "execution_count": 5,
   "metadata": {},
   "outputs": [
    {
     "data": {
      "text/plain": [
       "'anarchism'"
      ]
     },
     "execution_count": 5,
     "metadata": {},
     "output_type": "execute_result"
    }
   ],
   "source": [
    "(text8_ds[0])"
   ]
  },
  {
   "cell_type": "markdown",
   "metadata": {},
   "source": [
    "# Wordsim Task"
   ]
  },
  {
   "cell_type": "code",
   "execution_count": 55,
   "metadata": {},
   "outputs": [],
   "source": [
    "from scipy import stats, spatial \n",
    "import csv, numpy as np\n",
    "from scipy.stats.stats import pearsonr\n",
    "from scipy import spatial \n",
    "#IMPORT DATA\n",
    "def get_wordsim_data():\n",
    "    wordsim_data = [] \n",
    "    with open('./data/wordsim/set1.csv', newline='') as csvfile:\n",
    "        reader = csv.reader(csvfile, delimiter=' ',quotechar='|')\n",
    "        for row in reader: \n",
    "            wordsim_data.append(row[0].split(',')[0:3])\n",
    "    del wordsim_data[0]\n",
    "    with open('./data/wordsim/set2.csv', newline='') as csvfile:\n",
    "        reader = csv.reader(csvfile, delimiter=' ',quotechar='|')\n",
    "        for i,row in enumerate(reader):\n",
    "            if i!=0:\n",
    "                wordsim_data.append(row[0].split(',')[0:3])\n",
    "\n",
    "    return wordsim_data\n",
    "\n",
    "#len(wordsim_vocab.intersection(text8_dataset_first_sentence.vocab))\n",
    "def wordsim_task(dict_emb):\n",
    "    wordsim_data = get_wordsim_data()\n",
    "    scores = []\n",
    "    distances = []\n",
    "    found = 0\n",
    "    missed = 0\n",
    "    for task in wordsim_data: \n",
    "        if (task[0] in dict_emb.keys() ) and (task[1] in dict_emb.keys()):\n",
    "            found += 1\n",
    "            scores.append(float(task[2]))\n",
    "            distances.append(spatial.distance.cosine(dict_emb[task[0]], dict_emb[task[1]]))\n",
    "        else:\n",
    "            missed += 1\n",
    "            \n",
    "    print('found:',found,'missed:',missed)            \n",
    "            \n",
    "    #return stats.zscore(np.array([x[1] for x in out],dtype=float))\n",
    "    return np.corrcoef(scores,distances)"
   ]
  },
  {
   "cell_type": "markdown",
   "metadata": {},
   "source": [
    "# Model"
   ]
  },
  {
   "cell_type": "code",
   "execution_count": 56,
   "metadata": {},
   "outputs": [],
   "source": [
    "import torch\n",
    "from torch.autograd import Variable\n",
    "import torch.nn as nn\n",
    "import torch.nn.functional as F\n",
    "\n",
    "\n",
    "class SkipGramModel(nn.Module):\n",
    "\n",
    "    def __init__(self, emb_size_u, emb_size_v,emb_dimension):\n",
    "        super(SkipGramModel, self).__init__()\n",
    "        self.emb_dimension = emb_dimension\n",
    "        self.u_embeddings = nn.Embedding(emb_size_u, emb_dimension, sparse=False)\n",
    "        self.v_embeddings = nn.Embedding(emb_size_v, emb_dimension, sparse=False)\n",
    "        self.init_emb()\n",
    "        \n",
    "\n",
    "    def init_emb(self):\n",
    "        initrange = 0.5 / self.emb_dimension\n",
    "        self.u_embeddings.weight.data.uniform_(-initrange, initrange)\n",
    "        self.v_embeddings.weight.data.uniform_(-0, 0)\n",
    "        \n",
    "    def forward(self, pos_u, pos_v,neg_v):\n",
    "        emb_u = self.u_embeddings(pos_u)\n",
    "        neg_v = neg_v.view(len(pos_u),-1)\n",
    "        samples = torch.cat([pos_v,Variable(neg_v)],1)\n",
    "        emb_v = self.v_embeddings(samples)\n",
    "        score = torch.bmm(emb_v, emb_u.unsqueeze(2)).squeeze()\n",
    "        score[:,1:]=score[:,1:].neg()\n",
    "        score = F.logsigmoid(score)\n",
    "        return -1 * (torch.sum(score))"
   ]
  },
  {
   "cell_type": "markdown",
   "metadata": {},
   "source": [
    "# Word2Vec Dataset"
   ]
  },
  {
   "cell_type": "code",
   "execution_count": 57,
   "metadata": {},
   "outputs": [],
   "source": [
    "from torch.utils.data import Dataset\n",
    "from collections import defaultdict\n",
    "from gensim.models.doc2vec import TaggedDocument\n",
    "import random\n",
    "import multiprocessing\n",
    "import time\n",
    "import numbers\n",
    "import itertools\n",
    "import pdb\n",
    "\n",
    "\n",
    "class W2VDataset(Dataset):\n",
    "    def __init__(self, sentences,power=0.75, neg_samples=5, min_count=5, window=5, sample=1e-4, sample_buffer=1000):\n",
    "        self.sentences = sentences\n",
    "        self.neg_samples=neg_samples\n",
    "        self.min_count = min_count\n",
    "        self.window_size = window\n",
    "        self.vocab_id = defaultdict(int)\n",
    "        self.vocab_ctx = defaultdict(int)\n",
    "        self.index2id = dict()\n",
    "        self.id2index = dict()\n",
    "        self.index2ctx = dict()\n",
    "        self.ctx2index = dict()\n",
    "        self.build_vocab(sentences)\n",
    "        self.ctx_weights = self.make_cum_table(power)\n",
    "        self.downsample_probs = np.zeros_like(self.ctx_weights)\n",
    "        if sample > 0:\n",
    "            self.downsample_probs = 1 - np.sqrt(sample/self.ctx_weights).clip(0,1)\n",
    "        self.pairs = []\n",
    "        ### If you do not want to shuffle the pairs please selec generat_pairs, else you can generate the pairs \n",
    "        ### in parallel with generate_pairs_parallel()\n",
    "        self.generate_pairs()\n",
    "        #self.generate_pairs_parallel()\n",
    "        self.ctx_weights = torch.FloatTensor(self.ctx_weights)\n",
    "        self.samples = None\n",
    "        self.sample_idx = -1\n",
    "        self.sample_size = 0\n",
    "        self.sample_buffer = sample_buffer\n",
    "        \n",
    "    def dataset_into_chunks(self,dataset,n_chunks=15):\n",
    "        chunks = []\n",
    "        #print(type(n_chunks))\n",
    "        split = int((len(dataset)/(n_chunks-1)))\n",
    "        for i in range(0, len(dataset), split):\n",
    "                    y = [dataset[i:i + split]]\n",
    "                    chunks.extend(y)\n",
    "        return chunks\n",
    "    def chunks_to_ds(chunks): \n",
    "        out = [x for z in l for x in chunks]\n",
    "        return out\n",
    "        \n",
    "    def sliding_window(self, words):\n",
    "        for pos, word in enumerate(words):\n",
    "            # sliding window (randomly reduced to give more weight to closeby words)\n",
    "            reduction = np.random.randint(self.window_size)\n",
    "            start = max(0, pos - self.window_size + reduction)\n",
    "            for pos2, word2 in enumerate(words[start:(pos + self.window_size + 1 - reduction)], start):\n",
    "                if pos2 != pos:\n",
    "                    yield (self.id2index[word],self.id2index[word2])\n",
    "                    \n",
    "    def generate_pairs_inner(self,sent):\n",
    "        pairs = []\n",
    "        words = [w for w in sent if w in self.vocab_id and self.downsample_probs[self.id2index[w]] < random.random()]\n",
    "        for pair in self.sliding_window(words):\n",
    "            pairs.append(pair)\n",
    "        return pairs\n",
    "        \n",
    "    def generate_pairs(self):  \n",
    "        print('generating pairs')\n",
    "        start = time.time()\n",
    "        p = [self.generate_pairs_inner(s) for s in self.sentences]\n",
    "        self.pairs = list(itertools.chain(*p))\n",
    "        end = time.time()\n",
    "        hours, rem = divmod(end-start, 3600)\n",
    "        minutes, seconds = divmod(rem, 60)\n",
    "        time_since_start = \"Time:  {:0>2}:{:0>2}:{:05.2f}\".format(int(hours),int(minutes),seconds)\n",
    "        print('pairs generated in ',time_since_start)\n",
    "\n",
    "    def generate_pairs_parallel(self): \n",
    "        print('generating pairs parallel')\n",
    "        start = time.time()\n",
    "        chunks = self.dataset_into_chunks(self.sentences)\n",
    "        manager = multiprocessing.Manager()\n",
    "        return_dict = manager.list()\n",
    "        threads = []\n",
    "        pairs = []\n",
    "        for index,chunk in enumerate(chunks):\n",
    "            thread = multiprocessing.Process(target=self.generate_pairs_single_thread, args=(chunk,index,return_dict))\n",
    "            thread.start()\n",
    "            threads.append(thread)\n",
    "        for thread in threads:\n",
    "            thread.join()\n",
    "        \n",
    "    \n",
    "        self.pairs = list(itertools.chain(*return_dict))\n",
    "        \n",
    "        end = time.time()\n",
    "        hours, rem = divmod(end-start, 3600)\n",
    "        minutes, seconds = divmod(rem, 60)\n",
    "        time_since_start = \"Time:  {:0>2}:{:0>2}:{:05.2f}\".format(int(hours),int(minutes),seconds)\n",
    "        print('pairs generated parallel  in ',time_since_start)\n",
    "        \n",
    "    def generate_pairs_single_thread(self,chunk,index,return_dict):\n",
    "        pairs = []\n",
    "        for sent in chunk:\n",
    "            words = [w for w in sent if w in self.vocab_id and self.downsample_probs[self.id2index[w]] < random.random()]\n",
    "            for pair in self.sliding_window(words):\n",
    "                pairs.append(pair)\n",
    "        #p = [self.generate_pairs_inner(s) for s in chunk]\n",
    "        #out = list(itertools.chain(*p))\n",
    "        print('thread' + str(index) + ' created' + str(len(pairs)) + \" pairs\")\n",
    "        return_dict.extend(pairs)\n",
    "        #return_dict[index] = pairs\n",
    "      \n",
    "        \n",
    "    def build_vocab(self,sentences):\n",
    "        print('building vocab')\n",
    "        raw_vocab = defaultdict(int)\n",
    "        for sent in sentences:\n",
    "            for word in sent:\n",
    "                raw_vocab[word] += 1\n",
    "        self.vocab_id = {k:v for k,v in raw_vocab.items() if v >= self.min_count}\n",
    "        self.vocab_ctx = self.vocab_id \n",
    "        del raw_vocab\n",
    "                \n",
    "        # ctx - index\n",
    "        for word in self.vocab_ctx:\n",
    "            self.ctx2index[word] = len(self.ctx2index)\n",
    "        self.index2ctx = dict(zip(self.ctx2index.values(), self.ctx2index.keys()))\n",
    "        # id - index\n",
    "        self.id2index = self.ctx2index\n",
    "        self.index2id = self.index2ctx\n",
    "        print('vocab build')\n",
    "        \n",
    "        \n",
    "    def make_cum_table(self, power):\n",
    "        pow_frequency = np.array([self.vocab_ctx[self.index2ctx[i]] for i in range(len(self.vocab_ctx))])**power\n",
    "        return pow_frequency / pow_frequency.sum()\n",
    "    \n",
    "    \n",
    "    def sample_neg(self, count):\n",
    "        if self.sample_idx == -1:\n",
    "            self.sample_size = count*self.sample_buffer\n",
    "            self.samples = np.random.choice(list(self.index2ctx.keys()),size=self.sample_size,replace=True,p=self.ctx_weights)\n",
    "            self.sample_idx = 0\n",
    "        while self.sample_idx + count > len(self.samples):\n",
    "            self.samples = np.random.choice(list(self.index2ctx.keys()),size=self.sample_size,replace=True,p=self.ctx_weights)\n",
    "            self.sample_idx = 0\n",
    "        out = self.samples[self.sample_idx:self.sample_idx+count]\n",
    "        self.sample_idx += count\n",
    "        return out\n",
    "        \n",
    "        \n",
    "    def __len__(self):\n",
    "        return len(self.pairs)\n",
    "    \n",
    "    \n",
    "    def __getitem__(self, idx):\n",
    "        pos_u = self.pairs[idx][0]\n",
    "        pos_v = self.pairs[idx][1]\n",
    "        samples = self.sample_neg(self.neg_samples)\n",
    "        while pos_v in samples:\n",
    "            samples = self.sample_neg(self.neg_samples)\n",
    "        return (pos_u,pos_v,samples)"
   ]
  },
  {
   "cell_type": "markdown",
   "metadata": {},
   "source": [
    "# W2V Training"
   ]
  },
  {
   "cell_type": "code",
   "execution_count": 58,
   "metadata": {},
   "outputs": [],
   "source": [
    "import torch\n",
    "import pickle\n",
    "from torch.utils.data import DataLoader\n",
    "import copy\n",
    "import time\n",
    "import numbers\n",
    "\n",
    "device = torch.device(\"cuda:0\" if torch.cuda.is_available() else \"cpu\")\n",
    "cpu = torch.device('cpu')\n",
    "gpu = torch.device(\"cuda:0\")\n",
    "\n",
    "class W2V():\n",
    "    def __init__(self, data,dim=100, neg_samples=10, alpha=0.4, iterations=20, batch_size=2000, \n",
    "                 shuffle=True,use_cuda=True,workers=2,momentum=0,nesterov=False,step_size=1,gamma=1,optim='Adam'):\n",
    "        self.momentum = momentum\n",
    "        self.nesterov = nesterov\n",
    "        self.step_size = step_size\n",
    "        self.gamma = gamma\n",
    "        self.shuffle = shuffle        \n",
    "        self.batch_size = batch_size\n",
    "        self.alpha = alpha\n",
    "        self.dim = dim\n",
    "        self.data = data\n",
    "        self.workers = workers\n",
    "        self.neg_samples = neg_samples\n",
    "        self.use_cuda = use_cuda\n",
    "        self.ws_list = []\n",
    "        self.loss_list = []\n",
    "        self.model = SkipGramModel(len(self.data.vocab_id),len(self.data.vocab_id), self.dim)\n",
    "        self.model.to(device)\n",
    "        # Choose wanted optimizer\n",
    "        if (optim=='Adam'):\n",
    "            print(\"choosen optimizer is Adam\")\n",
    "            self.optimizer = torch.optim.Adam(self.model.parameters(),lr=alpha)\n",
    "        else:\n",
    "            print(\"choosen optimizer is SGD\")\n",
    "            self.optimizer = torch.optim.SGD(self.model.parameters(), lr=alpha, momentum=momentum,nesterov=nesterov)\n",
    "        \n",
    "        \n",
    "\n",
    "\n",
    "        self.iterations = iterations\n",
    " \n",
    "    def train_with_loader(self,save_embedding=False):\n",
    "        print('starting training')\n",
    "\n",
    "        self.time=0\n",
    "        for epoch in range(self.iterations):\n",
    "            loader = DataLoader(self.data, self.batch_size, self.shuffle, num_workers=self.workers,pin_memory=True)\n",
    "            tenth = int(len(loader)/10)\n",
    "\n",
    "            percent = 0\n",
    "            start = time.time()\n",
    "            processed_batches = 0 \n",
    "            pairs = 0\n",
    "            cum_loss = 0 \n",
    "            avg_loss =0\n",
    "            best_loss = 10 \n",
    "            \n",
    "            for i,(pos_u,pos_v,neg_v) in enumerate(loader):\n",
    "                if(i%tenth == 0 ):\n",
    "                    end = time.time()\n",
    "                    hours, rem = divmod(end-start, 3600)\n",
    "                    minutes, seconds = divmod(rem, 60)\n",
    "                    time_since_start = \"Time:  {:0>2}:{:0>2}:{:05.2f}\".format(int(hours),int(minutes),seconds)\n",
    "                    if(processed_batches!=0):\n",
    "                        avg_loss = cum_loss / processed_batches\n",
    "                    print(\"0%\" + \"=\" *(int(percent/10))+ str(percent) +\"%, \" + time_since_start + \", cum_loss = {}\".format(cum_loss),end=\"\\r\" )\n",
    "                    percent+=10   \n",
    "                    \n",
    "                pos_v = pos_v.view(len(pos_u),-1)\n",
    "                neg_v = neg_v.view(len(pos_u),-1)\n",
    "                pos_u = pos_u.to(device)\n",
    "                pos_v = pos_v.to(device)\n",
    "                neg_v = neg_v.to(device)\n",
    "                self.optimizer.zero_grad()\n",
    "                loss = self.model.forward(pos_u,pos_v,neg_v)\n",
    "                cum_loss += loss\n",
    "                loss.backward()\n",
    "                self.optimizer.step()\n",
    "                pairs += len(pos_u)\n",
    "                processed_batches += 1\n",
    "                \n",
    "            print(\"\\n{0:d} epoch of {1:d}\".format(epoch+1, self.iterations))\n",
    "            avg_loss = cum_loss / processed_batches\n",
    "            print(\" {0:d} {1:d} batches, pairs {2:d}, cum loss: {3:.5f}\".format(i,processed_batches, pairs,cum_loss))\n",
    "            self.loss_list.append(cum_loss)\n",
    "            self.time = time_since_start\n",
    "            self.model = self.model.to(cpu)\n",
    "            score = -1*(wordsim_task(self.get_embedding())[0][1])\n",
    "            print(\"Current score on wordsim Task: {}\".format(score))\n",
    "            self.ws_list.append(score)\n",
    "            self.model = self.model.to(gpu)\n",
    "            self.data.generate_pairs()\n",
    "        \n",
    "        if(save_embedding):\n",
    "            self.save_embedding()\n",
    "            \n",
    "\n",
    "    def get_embedding(self):\n",
    "        embedding_dict = dict()\n",
    "        embedding = self.model.u_embeddings.weight.data.numpy()\n",
    "        for i in range(len(self.data.index2id)):\n",
    "            embedding_dict[self.data.index2id[i]]= embedding[i]\n",
    "        return embedding_dict\n",
    "    \n",
    "    def save_embedding(self, with_loss=True):\n",
    "        print('ntm')\n",
    "        # Creating filename\n",
    "        optim = \"Optim\" + str(self.optimizer).split(\" \")[0] + \"_\"\n",
    "        filename = \"dict_emb_\" +  optim + \"_\".join([x + str(y) for x,y in vars(self).items() if isinstance(y, numbers.Number)]) + \".pkl\"\n",
    "        \n",
    "        # Getting Embedding\n",
    "        self.model.to(torch.device('cpu'))\n",
    "        dict_emb = w2v.get_embedding()\n",
    "        \n",
    "        # Adding loss history to embedding\n",
    "        dict_emb['loss_list'] = [x.to(torch.device('cpu')) for x in self.loss_list]\n",
    "        \n",
    "        # Adding score list to embedding \n",
    "        dict_emb['ws_list'] = self.ws_list\n",
    "        \n",
    "                \n",
    "        # Saving time spent to calculate 1 epoch\n",
    "        dict_emb['time'] = self.time\n",
    "        \n",
    "        # Logging\n",
    "        print(\"Saving embedding: {} to disk with ws_score: {} \".format(filename,dict_emb['ws_list']))\n",
    "    \n",
    "        # Writing embedding dictionnary to disk\n",
    "        with open(filename, 'wb') as output:\n",
    "            pickle.dump(dict_emb, output, pickle.HIGHEST_PROTOCOL)\n",
    "        \n",
    "        self.model.to(device)\n",
    "        self.loss_list = [x.to(device) for x in self.loss_list]"
   ]
  },
  {
   "cell_type": "markdown",
   "metadata": {},
   "source": [
    "### Building the dataset"
   ]
  },
  {
   "cell_type": "code",
   "execution_count": null,
   "metadata": {
    "scrolled": true
   },
   "outputs": [],
   "source": [
    "neg_samples = 10\n",
    "w2v_dataset = W2VDataset(text8_dataset,sample_buffer=500000,neg_samples=neg_samples)"
   ]
  },
  {
   "cell_type": "markdown",
   "metadata": {},
   "source": [
    "### Training without shuffling "
   ]
  },
  {
   "cell_type": "code",
   "execution_count": null,
   "metadata": {
    "scrolled": false
   },
   "outputs": [],
   "source": [
    "import pickle\n",
    "\n",
    "ws_lists_adam_shuffle = []\n",
    "ws_lists_sgd_shuffle = []\n",
    "ADAM_LR = 0.0022\n",
    "SGD_LR = 0.0075\n",
    "NUMBER_OF_EVAL = 1\n",
    "NUMBER_OF_ITER = 10\n",
    "\"\"\"for x in range(NUMBER_OF_EVAL):\n",
    "    w2v = W2V(w2v_dataset, neg_samples=neg_samples, alpha=ADAM_LR,shuffle=False,workers=4,iterations=NUMBER_OF_ITER,batch_size=2000,optim='Adam')\n",
    "    w2v.train_with_loader()\n",
    "    ws_lists_adam_shuffle.append(w2v.ws_list)\n",
    "    \n",
    "mean_list_adam = np.mean(ws_lists_adam_shuffle, axis=0)\n",
    "with open('mean_list_adam-once.pkl', 'wb') as fp:\n",
    "    pickle.dump(mean_list_adam, fp)\n",
    "    \"\"\"\n",
    "for x in range(NUMBER_OF_EVAL):\n",
    "    w2v = W2V(w2v_dataset, neg_samples=neg_samples, alpha=SGD_LR,shuffle=False,workers=2,iterations=NUMBER_OF_ITER,batch_size=2000,optim='Sgd')\n",
    "    w2v.train_with_loader()\n",
    "    ws_lists_sgd_shuffle.append(w2v.ws_list)\n",
    "    \n",
    "mean_list_sgd = np.mean(ws_lists_sgd_shuffle, axis=0)\n",
    "with open('mean_list_sgd-once.pkl', 'wb') as fp:\n",
    "    pickle.dump(mean_list_sgd, fp)\n"
   ]
  },
  {
   "cell_type": "markdown",
   "metadata": {},
   "source": [
    "\n",
    "### Training with shuffling"
   ]
  },
  {
   "cell_type": "code",
   "execution_count": null,
   "metadata": {},
   "outputs": [
    {
     "name": "stdout",
     "output_type": "stream",
     "text": [
      "choosen optimizer is Adam\n",
      "starting training\n",
      "0%==========100%, Time:  00:04:42.32, cum_loss = 130082912.0\n",
      "1 epoch of 3\n",
      " 20940 20941 batches, pairs 41881345, cum loss: 130086784.00000\n",
      "found: 333 missed: 20\n",
      "Current score on wordsim Task: 0.6046566069315678\n",
      "generating pairs\n",
      "pairs generated in  Time:  00:00:56.20\n",
      "0%==========100%, Time:  00:05:24.99, cum_loss = 118883440.0\n",
      "2 epoch of 3\n",
      " 20935 20936 batches, pairs 41870380, cum loss: 118912520.00000\n",
      "found: 333 missed: 20\n",
      "Current score on wordsim Task: 0.6606239157958264\n",
      "generating pairs\n",
      "pairs generated in  Time:  00:00:59.92\n",
      "0%==========100%, Time:  00:05:31.97, cum_loss = 116637304.0\n",
      "3 epoch of 3\n",
      " 20936 20937 batches, pairs 41873311, cum loss: 116674328.00000\n",
      "found: 333 missed: 20\n",
      "Current score on wordsim Task: 0.6748221416770364\n",
      "generating pairs\n",
      "pairs generated in  Time:  00:00:58.65\n",
      "choosen optimizer is Adam\n",
      "starting training\n",
      "0%==========100%, Time:  00:05:40.05, cum_loss = 130043552.0\n",
      "1 epoch of 3\n",
      " 20934 20935 batches, pairs 41868424, cum loss: 130067824.00000\n",
      "found: 333 missed: 20\n",
      "Current score on wordsim Task: 0.5921763763559644\n",
      "generating pairs\n"
     ]
    }
   ],
   "source": [
    "ws_lists_adam_shuffle = []\n",
    "ws_lists_sgd_shuffle = []\n",
    "ADAM_LR = 0.001\n",
    "SGD_LR = 0.06\n",
    "NUMBER_OF_EVAL = 10\n",
    "NUMBER_OF_ITER = 3\n",
    "\n",
    "for x in range(NUMBER_OF_EVAL):\n",
    "    w2v = W2V(w2v_dataset, neg_samples=neg_samples, alpha=ADAM_LR,shuffle=True,workers=4,iterations=NUMBER_OF_ITER,batch_size=2000,optim='Adam')\n",
    "    w2v.train_with_loader()\n",
    "    ws_lists_adam_shuffle.append(w2v.ws_list)\n",
    "    \n",
    "mean_list_adam_shuffle = np.mean(ws_lists_adam_shuffle, axis=0)\n",
    "with open('mean_list_adam_shuffle-once.pkl', 'wb') as fp:\n",
    "    pickle.dump(mean_list_adam_shuffle, fp)\n",
    "\n",
    "\"\"\"for x in range(NUMBER_OF_EVAL):\n",
    "    w2v = W2V(w2v_dataset, neg_samples=neg_samples, alpha=SGD_LR,shuffle=True,workers=4,iterations=NUMBER_OF_ITER,batch_size=2000,optim='Sgd')\n",
    "    w2v.train_with_loader()\n",
    "    ws_lists_sgd_shuffle.append(w2v.ws_list)\n",
    "    \n",
    "mean_list_sgd_shuffle = np.mean(ws_lists_sgd_shuffle, axis=0)\n",
    "with open('mean_list_sgd_shuffle-once.pkl', 'wb') as fp:\n",
    "    pickle.dump(mean_list_sgd_shuffle, fp)\"\"\"\n"
   ]
  },
  {
   "cell_type": "code",
   "execution_count": null,
   "metadata": {},
   "outputs": [],
   "source": [
    "print(test)"
   ]
  },
  {
   "cell_type": "code",
   "execution_count": 2,
   "metadata": {},
   "outputs": [
    {
     "data": {
      "text/plain": [
       "array([0.6041507 , 0.65526331, 0.6684294 ])"
      ]
     },
     "execution_count": 2,
     "metadata": {},
     "output_type": "execute_result"
    }
   ],
   "source": [
    "import pickle\n",
    "with open('mean_list_adam_shuffle-once.pkl', 'rb') as fp:\n",
    "    mean_list_adam_shuffle = pickle.load(fp)\n",
    "mean_list_adam_shuffle"
   ]
  },
  {
   "cell_type": "markdown",
   "metadata": {},
   "source": [
    "### Training Gensim\n",
    "\n"
   ]
  },
  {
   "cell_type": "code",
   "execution_count": 3,
   "metadata": {},
   "outputs": [],
   "source": [
    "from gensim.models.callbacks import CallbackAny2Vec\n",
    "from gensim.models import Word2Vec\n",
    "gensim_emb = dict()\n",
    "    \n",
    "class EpochLogger(CallbackAny2Vec):\n",
    "    def __init__(self):\n",
    "        self.epoch = 0\n",
    "        self.cum_loss = 0\n",
    "        self.loss_list = []\n",
    "        self.ws_list = []\n",
    "        self.prev_score = -1\n",
    "        self.no_improvement =0\n",
    "\n",
    "    def on_epoch_end(self, model):\n",
    "        for word in model.wv.vocab:\n",
    "            gensim_emb[word] = model.wv[word]\n",
    "            \n",
    "        score = -1*wordsim_task(gensim_emb)[0][1]\n",
    "        self.ws_list.append(score)\n",
    "        \n",
    "        if(score - self.prev_score < 0.0009):\n",
    "            self.no_improvement +=1\n",
    "            \n",
    "        print(\"Epoch #{} end: cum_loss={}, ws_score={}\".format(self.epoch,self.cum_loss,score))\n",
    "        self.epoch +=1\n",
    "            \n",
    "    def on_batch_end(self, model):\n",
    "        \"\"\"Method called at the end of each batch.\n",
    "        Parameters\n",
    "        ----------\n",
    "        model : :class:`~gensim.models.base_any2vec.BaseWordEmbeddingsModel`\n",
    "            Current model.\n",
    "        \"\"\"\n",
    "        self.cum_loss += model.get_latest_training_loss()\n",
    "        "
   ]
  },
  {
   "cell_type": "code",
   "execution_count": 16,
   "metadata": {},
   "outputs": [
    {
     "name": "stdout",
     "output_type": "stream",
     "text": [
      "Epoch #0, ws_score=0.5396497721460931\n",
      "Epoch #1, ws_score=0.6278745700583869\n",
      "Epoch #2, ws_score=0.6645315897321881\n",
      "Epoch #3, ws_score=0.6803110776211445\n",
      "Epoch #4, ws_score=0.6816478190857624\n"
     ]
    }
   ],
   "source": [
    "ws_lists_gensim  = []\n",
    "NUMBER_OF_EVAL = 10\n",
    "for x in range(NUMBER_OF_EVAL):\n",
    "    epoch_logger = EpochLogger()\n",
    "    model = Word2Vec(text8_dataset,size=100,window=5,negative=10,min_count=5, sample=1e-4, iter=6, workers=1,sg=1, hs=0,callbacks=[epoch_logger],compute_loss=True)\n",
    "    ws_lists_gensim.append(epoch_logger.ws_list)\n",
    "mean_list_gensim = np.mean(ws_lists_gensim, axis=0)\n",
    "import pickle\n",
    "with open('mean_list_gensim-once.pkl', 'wb') as fp:\n",
    "    pickle.dump(mean_list_gensim, fp)"
   ]
  },
  {
   "cell_type": "code",
   "execution_count": 43,
   "metadata": {},
   "outputs": [],
   "source": [
    "import pickle\n",
    "a =0 \n",
    "with open('mean_list_sgd_shuffle-once.pkl', 'rb') as fp:\n",
    "    mean_list_sgd_shuffle = pickle.load(fp)\n",
    "    np.insert(mean_list_sgd_shuffle,0,a)\n",
    "   # mean_list_sgd_shuffle= [0] +  mean_list_sgd_shuffle  \n",
    "with open('mean_list_adam_shuffle.pkl', 'rb') as fp:\n",
    "    mean_list_adam_shuffle = pickle.load(fp)\n",
    "with open('mean_list_adam.pkl', 'rb') as fp:\n",
    "    mean_list_adam = pickle.load(fp)\n",
    "with open('mean_list_sgd-once.pkl', 'rb') as fp:\n",
    "    mean_list_sgd = pickle.load(fp)\n",
    "with open('mean_list_gensim-once.pkl', 'rb') as fp:\n",
    "    mean_list_gensim =  pickle.load(fp)"
   ]
  },
  {
   "cell_type": "code",
   "execution_count": null,
   "metadata": {},
   "outputs": [],
   "source": []
  },
  {
   "cell_type": "code",
   "execution_count": 52,
   "metadata": {},
   "outputs": [
    {
     "name": "stdout",
     "output_type": "stream",
     "text": [
      "[0, 0.5893957944204713, 0.6098787346818041, 0.6500539107744734, 0.6006057309999643, 0.6274015096667286, 0.6310083163914906, 0.6189253059378448, 0.6241671045250372, 0.6290953504968924, 0.6411826508115003]\n",
      "[0, 0.6070257059245083, 0.6563896621677375, 0.6653966171152071, 0.6694809455626067, 0.6680235436075981, 0.6669606736070557, 0.6649846633114318, 0.6649876527470999, 0.6626320328661758, 0.6615002173806511]\n",
      "[0, 0.5971088919730525, 0.647909465209494, 0.6574156430261014, 0.6651273661993775, 0.6639416149230564, 0.6581387946193179, 0.6559979324227934, 0.6567772287068492, 0.6549207125104178, 0.6530253614517446]\n",
      "[0, 0.3550166344373615, 0.4919609924623827, 0.5655138055778304, 0.6122985232708655, 0.6342443137431955, 0.6481573845374355, 0.6569999693743582, 0.6665147213177087, 0.6712819961387664, 0.6603930912478811]\n",
      "[0, 0.5464960973845377, 0.6322005951138007, 0.6651838651759465, 0.6824013838453992, 0.6718184541184594, 0.68359562650535, 0.6778136715985519, 0.6744716791845197, 0.6803313354843202, 0.6784172449191964]\n"
     ]
    }
   ],
   "source": [
    "l1 = [0]\n",
    "l2 = [0]\n",
    "l3 = [0]\n",
    "l4 = [0]\n",
    "l5 = [0]\n",
    "for x in range(10): \n",
    "    l1.append(mean_list_sgd_shuffle[x])\n",
    "print(l1[10])\n",
    "for x in range(10): \n",
    "    l2.append(mean_list_adam_shuffle[x])\n",
    "print(l1[10])\n",
    "for x in range(10): \n",
    "    l3.append(mean_list_adam[x])\n",
    "print(l1[10])\n",
    "for x in range(10): \n",
    "    l4.append(mean_list_sgd[x])\n",
    "print(l1[10])\n",
    "for x in range(10): \n",
    "    l5.append(mean_list_gensim[x])\n",
    "print(l1[10])\n"
   ]
  },
  {
   "cell_type": "markdown",
   "metadata": {},
   "source": [
    "### Vizualization"
   ]
  },
  {
   "cell_type": "code",
   "execution_count": 50,
   "metadata": {},
   "outputs": [
    {
     "data": {
      "image/png": "[encoded data removed]",
      "text/plain": [
       "<Figure size 432x288 with 1 Axes>"
      ]
     },
     "metadata": {
      "needs_background": "light"
     },
     "output_type": "display_data"
    }
   ],
   "source": [
    "import numpy as np\n",
    "import matplotlib.pyplot as plt\n",
    "plt.xlabel('Number of Epochs')\n",
    "plt.ylabel('Word similarity score')\n",
    "plt.title('Convergence Time According to the choosen Optimizer')\n",
    "# red dashes, blue squares and green triangles\n",
    "plt.plot(l1, 'bo--',label='Sgd_shuffle')#0.65/3\n",
    "plt.plot(l4 , 'bo-',label='Sgd')#0.67/8\n",
    "plt.plot(l2,'ro--',label='Adam_shuffle')#0.67/4\n",
    "plt.plot(l3,'ro-',label='Adam')#0.66/3\n",
    "plt.plot(l5,'go-',label='Gensim')#0.68/4\n",
    "plt.grid(True)\n",
    "plt.legend(loc=(1.04,0.5))\n",
    "plt.savefig('comparison.png')\n",
    "plt.show()\n"
   ]
  },
  {
   "cell_type": "code",
   "execution_count": 48,
   "metadata": {},
   "outputs": [
    {
     "data": {
      "image/png": "[encoded data removed]",
      "text/plain": [
       "<Figure size 432x288 with 1 Axes>"
      ]
     },
     "metadata": {
      "needs_background": "light"
     },
     "output_type": "display_data"
    }
   ],
   "source": [
    "import numpy as np\n",
    "import matplotlib.pyplot as plt\n",
    "plt.xlabel('Number of Epochs')\n",
    "plt.ylabel('Word similarity score')\n",
    "plt.title('Convergence Time According to the choosen Optimizer')\n",
    "# red dashes, blue squares and green triangles\n",
    "plt.plot(mean_list_sgd_shuffle, 'bo--',label='sgd_shuffle')\n",
    "plt.plot(mean_list_sgd , 'bo-',label='sgd')\n",
    "plt.plot(mean_list_adam_shuffle,'ro--',label='adam_shuffle')\n",
    "plt.plot(mean_list_adam,'ro-',label='adam')\n",
    "#plt.plot(mean_list_gensim,'go-',label='Gensim')\n",
    "plt.grid(True)\n",
    "plt.legend(loc=(1.04,0.5))\n",
    "plt.savefig('comparison.png')\n",
    "plt.show()"
   ]
  },
  {
   "cell_type": "code",
   "execution_count": null,
   "metadata": {},
   "outputs": [],
   "source": []
  }
 ],
 "metadata": {
  "kernelspec": {
   "display_name": "Python 3",
   "language": "python",
   "name": "python3"
  },
  "language_info": {
   "codemirror_mode": {
    "name": "ipython",
    "version": 3
   },
   "file_extension": ".py",
   "mimetype": "text/x-python",
   "name": "python",
   "nbconvert_exporter": "python",
   "pygments_lexer": "ipython3",
   "version": "3.7.3"
  }
 },
 "nbformat": 4,
 "nbformat_minor": 2
}
